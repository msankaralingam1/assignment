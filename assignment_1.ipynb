{
 "cells": [
  {
   "cell_type": "markdown",
   "id": "d7a751ca-8914-41ab-9ded-d6885cfbb942",
   "metadata": {},
   "source": [
    "1.In the below elements which of them are values or an expression?eg:-values can be integer or string and expressions will be mathematical operators.\n",
    "* ,'hello',-87.8,-,/,+,6\n"
   ]
  },
  {
   "cell_type": "markdown",
   "id": "49e90aec-accd-4d4a-be6b-519977e07c08",
   "metadata": {},
   "source": [
    "Ans: There are a total of 4 operators and 3 Expressions, they are\n",
    "\n",
    "operators: *,-,/,+\n",
    "\n",
    "Exoressuibs:'hello',87.8,6"
   ]
  },
  {
   "cell_type": "markdown",
   "id": "b89f05d5-bffd-48b9-bb56-128fb11dd86b",
   "metadata": {},
   "source": [
    "2.What is teh difference between string and variable?"
   ]
  },
  {
   "cell_type": "markdown",
   "id": "e914ee45-de95-45ed-9dc2-38c1556cb249",
   "metadata": {},
   "source": [
    "Ans. A variable is used to strore of informatin, and a string is a type of information you would store in a Variable. A stringis a group of characters or a single character usually enclosed in Double quotes \" \" or single quotes ' '"
   ]
  },
  {
   "cell_type": "markdown",
   "id": "788f300f-8df4-4489-ab5f-859c723e7cbf",
   "metadata": {},
   "source": [
    "3.Describe three different Data Types?"
   ]
  },
  {
   "cell_type": "markdown",
   "id": "e5c359cc-ddee-4118-af13-a6af2742da66",
   "metadata": {},
   "source": [
    "Ans. Three fundamental Data types in pyton are int, float, complex.\n",
    "\n",
    "1. int data type. We can use int data type to represent whole number (integral values)\n",
    "\n",
    "2. float data type: We can use float data type to represent floation point value (decemial values)\n",
    "\n",
    "3. complex data type: Complex number is represented by complex class. It is specified as (real part) + (Imaginary part)."
   ]
  },
  {
   "cell_type": "code",
   "execution_count": 2,
   "id": "3dd0a18a-5ed3-4bef-af54-9284186f2ec1",
   "metadata": {},
   "outputs": [
    {
     "name": "stdout",
     "output_type": "stream",
     "text": [
      "465 <class 'int'>\n",
      "1200.0 <class 'float'>\n",
      "(10+1.5j) <class 'complex'>\n"
     ]
    }
   ],
   "source": [
    "# Example for int data type\n",
    "int_num=465\n",
    "print(int_num,type(int_num))\n",
    "# Example for float data type\n",
    "flo_num=1.2e3\n",
    "print(flo_num,type(flo_num))\n",
    "# Example for complex data type\n",
    "com_num=10+1.5j\n",
    "print(com_num,type(com_num))"
   ]
  },
  {
   "cell_type": "markdown",
   "id": "2ad36b77-2035-442a-a21c-d94197b5580a",
   "metadata": {},
   "source": [
    "4. What is an expression made up of? What do all expressions do?"
   ]
  },
  {
   "cell_type": "markdown",
   "id": "ba0b6cd6-3155-4a14-b6b4-2c8edf1d8225",
   "metadata": {},
   "source": [
    "Ans: An expression is a combination of values, variables, operators and calls to functions. Expressions need to be evaluated. If we ask Python to print an expressin, the interpreter evaluates the expressions and displays the result."
   ]
  },
  {
   "cell_type": "code",
   "execution_count": 3,
   "id": "cfd91d55-a7f1-480e-9e0f-1f27e6faf477",
   "metadata": {},
   "outputs": [
    {
     "data": {
      "text/plain": [
       "0"
      ]
     },
     "execution_count": 3,
     "metadata": {},
     "output_type": "execute_result"
    }
   ],
   "source": [
    "4*5+20-40 # is an expression, The Python Interpreter Evaluates it to 0"
   ]
  },
  {
   "cell_type": "markdown",
   "id": "337764db-271e-4a61-af32-289483e0b6fb",
   "metadata": {},
   "source": [
    "5. This assignment statements, like spam = 10. What is the difference between an expression and a statement?"
   ]
  },
  {
   "cell_type": "markdown",
   "id": "c6e062b9-93d4-4a36-999b-125000247b82",
   "metadata": {},
   "source": [
    "Ans. An expression is a combination of values, variables, and operators. When we type an expression at the prompt, the interpreter evaluates it, which means that it finds the value of the expression.\n",
    "\n",
    "eg:4*5+20-40 is an example of a statement\n",
    "\n",
    "A statement is a unit of code that has an effect, like creating a variable or displaying a value. When we type a statement, the interpreter executes it, which means that it does whatever the statement says. In general, statments don't have values.\n",
    "\n",
    "eg: variable declaration and assignment are statements because they do not return a value"
   ]
  },
  {
   "cell_type": "code",
   "execution_count": 4,
   "id": "c2f40f73-1eb9-4598-804f-1cfda38ce926",
   "metadata": {},
   "outputs": [
    {
     "name": "stdout",
     "output_type": "stream",
     "text": [
      "Hello World !\n"
     ]
    }
   ],
   "source": [
    "# Example:\n",
    "4*5+20-40 # Is a Expression\n",
    "courseName = 'INeuron FullStack DataScience' # Is a Statement\n",
    "print(\"Hello World !\") # Is a Expression Statement"
   ]
  },
  {
   "cell_type": "markdown",
   "id": "e211b5ab-6286-4c64-be5b-2c16ceef697a",
   "metadata": {},
   "source": [
    "6. After running the following code what does the variable bacon contain?\n",
    "\n",
    "bacon = 22\n",
    "\n",
    "bacon+1"
   ]
  },
  {
   "cell_type": "markdown",
   "id": "b0cda2cc-fd9a-4e8b-bca4-fc9081324131",
   "metadata": {},
   "source": [
    "Ans: The variable bacon is set to 22. The expression bacon + 1 does not reassign the value in bacon (that would the case if the expression is like bacon = bacon + 1 instead of bacon + 1)"
   ]
  },
  {
   "cell_type": "code",
   "execution_count": 6,
   "id": "fc960395-e26e-4bad-93e8-dd5731fe1dea",
   "metadata": {},
   "outputs": [
    {
     "name": "stdout",
     "output_type": "stream",
     "text": [
      "22\n"
     ]
    }
   ],
   "source": [
    "# Example Case#1\n",
    "bacon=22\n",
    "bacon+1\n",
    "print(bacon)"
   ]
  },
  {
   "cell_type": "code",
   "execution_count": 7,
   "id": "4c607c9c-c697-40cf-89f0-755f82eb5b4d",
   "metadata": {},
   "outputs": [
    {
     "name": "stdout",
     "output_type": "stream",
     "text": [
      "23\n"
     ]
    }
   ],
   "source": [
    "# Example Case#2\n",
    "bacon=22\n",
    "bacon=bacon+1\n",
    "print(bacon)"
   ]
  },
  {
   "cell_type": "markdown",
   "id": "22b1502f-0930-41a3-880a-1078671e0647",
   "metadata": {},
   "source": [
    "7.What should the values of the following two terms be?\n",
    "\n",
    "'spam'+'spamspam'\n",
    "\n",
    "'spam'*3"
   ]
  },
  {
   "cell_type": "markdown",
   "id": "65a57e47-4034-4974-aa12-8838d5a62026",
   "metadata": {},
   "source": [
    "Ans: Both expressions evaluate to the string 'spamspanspam' Where as the first expression follows String Concatentation and the second expression follow String Multiplication"
   ]
  },
  {
   "cell_type": "code",
   "execution_count": 8,
   "id": "9c5882d8-c181-4bae-859b-0670705e41b8",
   "metadata": {},
   "outputs": [
    {
     "name": "stdout",
     "output_type": "stream",
     "text": [
      "spamspamspam\n",
      "spamspamspam\n"
     ]
    }
   ],
   "source": [
    "print('spam'+'spamspam') #string concatenation\n",
    "print('spam'*3) #string multiplication"
   ]
  },
  {
   "cell_type": "markdown",
   "id": "d823b3de-acf5-4737-b887-b8f180ee660d",
   "metadata": {},
   "source": [
    "8. Why is eggs a valid variable name while 100 is invalid?\n",
    "\n"
   ]
  },
  {
   "cell_type": "markdown",
   "id": "45aba45e-04cf-4ccc-815f-9adc54faa275",
   "metadata": {},
   "source": [
    "Ans: As per python,Varialbe names cannot begin with number. The python rules for naming a variable are:-\n",
    "\n",
    "1. variable name must start with letter or the underscore character.\n",
    "\n",
    "2. variable name cannot start with a number.\n",
    "\n",
    "3. variable name can only contain alpha-numeric characters and uderscores(A-z,0-9,&_).\n",
    "\n",
    "4. variable are case-sensitive(name,INEURON and ineuron are three different variable).\n",
    "\n",
    "5. The reserved words(keywords) cannot be used naming the variable."
   ]
  },
  {
   "cell_type": "code",
   "execution_count": 10,
   "id": "97fef058-9799-49c8-a4aa-3bece83f4b6c",
   "metadata": {},
   "outputs": [
    {
     "name": "stdout",
     "output_type": "stream",
     "text": [
      "Ineuron\n"
     ]
    }
   ],
   "source": [
    "egg='Ineuron' # valid variable Initilization\n",
    "\n",
    "print(egg)#prints the value of egg ie Ineuron\n"
   ]
  },
  {
   "cell_type": "code",
   "execution_count": 11,
   "id": "317fd1d4-de0e-42f1-aaa3-f86cc3d0f45a",
   "metadata": {},
   "outputs": [
    {
     "ename": "SyntaxError",
     "evalue": "cannot assign to literal here. Maybe you meant '==' instead of '='? (2665665009.py, line 1)",
     "output_type": "error",
     "traceback": [
      "\u001b[0;36m  Cell \u001b[0;32mIn [11], line 1\u001b[0;36m\u001b[0m\n\u001b[0;31m    100='hello' # invalid variable initilization\u001b[0m\n\u001b[0m    ^\u001b[0m\n\u001b[0;31mSyntaxError\u001b[0m\u001b[0;31m:\u001b[0m cannot assign to literal here. Maybe you meant '==' instead of '='?\n"
     ]
    }
   ],
   "source": [
    "100='hello' # invalid variable initilization\n",
    "print(100)# Raise  a syntax error as 100 is not a valid variable name"
   ]
  },
  {
   "cell_type": "markdown",
   "id": "a3a6bc28-221c-448e-94db-a03d5fc27e8c",
   "metadata": {},
   "source": [
    "9. What three functions can be used to get the integer,floating-point number, or string version of a value?"
   ]
  },
  {
   "cell_type": "markdown",
   "id": "73a6e973-b1d1-419e-bf53-a7c3dd209332",
   "metadata": {},
   "source": [
    "Ans.The int(), float(), and str() functions will evaluate to the integer, floation-point, string version of the value passed to them ."
   ]
  },
  {
   "cell_type": "code",
   "execution_count": 13,
   "id": "52806992-d617-4a25-bb22-dc91456d48d5",
   "metadata": {},
   "outputs": [
    {
     "name": "stdout",
     "output_type": "stream",
     "text": [
      "int(10.0) -> 10\n",
      "float(10) -> 10.0\n",
      "str(10) -> 10\n"
     ]
    }
   ],
   "source": [
    "#examples\n",
    "\n",
    "print('int(10.0) ->',int(10.0)) # int() function converts given input to int\n",
    "print('float(10) ->',float(10)) # float() function converts given input to float\n",
    "print('str(10) ->',str(10)) #str () function converts given input to string"
   ]
  },
  {
   "cell_type": "markdown",
   "id": "4044e35d-9097-4dd3-9926-7974f7bd360c",
   "metadata": {},
   "source": [
    "10. Why does this expression cause an error? How can you fix it?\n",
    "\n",
    "'I have eaten' + 99 + 'burritos.'"
   ]
  },
  {
   "cell_type": "code",
   "execution_count": 15,
   "id": "becd4375-f03f-4584-a84b-72309993e7ae",
   "metadata": {},
   "outputs": [
    {
     "ename": "TypeError",
     "evalue": "can only concatenate str (not \"int\") to str",
     "output_type": "error",
     "traceback": [
      "\u001b[0;31m---------------------------------------------------------------------------\u001b[0m",
      "\u001b[0;31mTypeError\u001b[0m                                 Traceback (most recent call last)",
      "Cell \u001b[0;32mIn [15], line 1\u001b[0m\n\u001b[0;32m----> 1\u001b[0m \u001b[38;5;28mprint\u001b[39m(\u001b[38;5;124;43m'\u001b[39;49m\u001b[38;5;124;43mI have eaten\u001b[39;49m\u001b[38;5;124;43m'\u001b[39;49m\u001b[43m \u001b[49m\u001b[38;5;241;43m+\u001b[39;49m\u001b[43m \u001b[49m\u001b[38;5;241;43m99\u001b[39;49m \u001b[38;5;241m+\u001b[39m \u001b[38;5;124m'\u001b[39m\u001b[38;5;124mburritos.\u001b[39m\u001b[38;5;124m'\u001b[39m)\n",
      "\u001b[0;31mTypeError\u001b[0m: can only concatenate str (not \"int\") to str"
     ]
    }
   ],
   "source": [
    "#Ans\n",
    "\n",
    "print('I have eaten' + 99 + 'burritos.')"
   ]
  },
  {
   "cell_type": "markdown",
   "id": "8214a75f-fbe9-4172-9c66-81191a423646",
   "metadata": {},
   "source": [
    "this cause of errors is 99. because is not a string. 99 must be typecased to a string to fix . the correct way is :\n",
    "    \n",
    "input:' I have eaten' + str(99) + 'burritos.'\n",
    "\n",
    "output:'I have eaten 99 burritos.'"
   ]
  },
  {
   "cell_type": "code",
   "execution_count": 19,
   "id": "528d759d-0047-4c67-ab87-29b3705d61db",
   "metadata": {},
   "outputs": [
    {
     "name": "stdout",
     "output_type": "stream",
     "text": [
      "I have eaten 99 burritos.\n"
     ]
    }
   ],
   "source": [
    "print('I have eaten ' + str(99) + ' burritos.')"
   ]
  },
  {
   "cell_type": "code",
   "execution_count": null,
   "id": "01c581d1-b40b-4f80-917c-ea6f54322e91",
   "metadata": {},
   "outputs": [],
   "source": []
  }
 ],
 "metadata": {
  "kernelspec": {
   "display_name": "Python 3 (ipykernel)",
   "language": "python",
   "name": "python3"
  },
  "language_info": {
   "codemirror_mode": {
    "name": "ipython",
    "version": 3
   },
   "file_extension": ".py",
   "mimetype": "text/x-python",
   "name": "python",
   "nbconvert_exporter": "python",
   "pygments_lexer": "ipython3",
   "version": "3.10.6"
  }
 },
 "nbformat": 4,
 "nbformat_minor": 5
}
