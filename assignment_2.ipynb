{
 "cells": [
  {
   "cell_type": "markdown",
   "id": "0ab0045e-edad-4cd4-bc89-f33354734644",
   "metadata": {},
   "source": [
    "1. What are the two values of the Boolean data type? How do you write them?"
   ]
  },
  {
   "cell_type": "markdown",
   "id": "93a2268c-bc33-447e-8368-2a7d95fbdebf",
   "metadata": {},
   "source": [
    "Ans.True and Flase are two values of teh boolen data types. We have to use capital T and F and with the rest of the word in lower case."
   ]
  },
  {
   "cell_type": "code",
   "execution_count": 1,
   "id": "9c1a1981-cfec-4264-a9d2-1cbad87b01ce",
   "metadata": {},
   "outputs": [
    {
     "name": "stdout",
     "output_type": "stream",
     "text": [
      "True <class 'bool'>\n",
      "False <class 'bool'>\n"
     ]
    }
   ],
   "source": [
    "a = True\n",
    "b = False\n",
    "print (a,type(a))\n",
    "print (b,type(b))"
   ]
  },
  {
   "cell_type": "markdown",
   "id": "94b9cac3-78d1-46bf-98a8-905b6f4a1e45",
   "metadata": {},
   "source": [
    "2. What are the three different types of Boolean operators?\n"
   ]
  },
  {
   "cell_type": "markdown",
   "id": "7c70ac75-a4cb-4646-8d92-160fb397c45d",
   "metadata": {},
   "source": [
    "Ans. The three different types of Boolean in python are : \"or\", \"and\", \"not\""
   ]
  },
  {
   "cell_type": "code",
   "execution_count": 2,
   "id": "03548b53-364a-4336-a4f3-9eff92bfa330",
   "metadata": {},
   "outputs": [
    {
     "name": "stdout",
     "output_type": "stream",
     "text": [
      "True\n",
      "True\n",
      "False\n"
     ]
    }
   ],
   "source": [
    "a=100\n",
    "b=200\n",
    "print(a>50 and b>100) # Example of boolean \"and\"\n",
    "print(a>200 or b>100) # Example of boolean \"or\"\n",
    "print(not(a>10)) # Example of boolean \"not\""
   ]
  },
  {
   "cell_type": "markdown",
   "id": "bf60a14e-3bc3-48fa-a232-ed2d1e56ff62",
   "metadata": {},
   "source": [
    "3. Make a list of each Boolean operator's truth table(i.e. every possible combination of Boolean values for the operator and what is evaluate)?"
   ]
  },
  {
   "cell_type": "markdown",
   "id": "1a5bb2b4-cb8c-4015-8651-a3a54caa4358",
   "metadata": {},
   "source": [
    "Ans. The truth table for the boolean tables are follow:\n",
    "    \n",
    "    * Truth table for \"and\" operator\n",
    "    \n",
    "    True and True is True\n",
    "    \n",
    "    True and False is False\n",
    "    \n",
    "    False and True is False\n",
    "    \n",
    "    False and False is False\n",
    "    \n",
    "    *Truth table for \"or\" operator\n",
    "    \n",
    "    True and True is True\n",
    "    \n",
    "    True and False is True\n",
    "    \n",
    "    False and True is True\n",
    "    \n",
    "    False and False is False\n",
    "    \n",
    "    *Truth Table for not operator\n",
    "    \n",
    "    True not is False , False not is True"
   ]
  },
  {
   "cell_type": "markdown",
   "id": "0b0fc2d3-e20f-4614-9d52-ec73ad87fe9b",
   "metadata": {},
   "source": [
    "4. What are the values of the following expressions?"
   ]
  },
  {
   "cell_type": "markdown",
   "id": "3276cf0a-4b81-4bbf-b98d-e628f55e1537",
   "metadata": {},
   "source": [
    "*(5>4) and (3==5)\n",
    "\n",
    "*not (5>4)\n",
    "\n",
    "*(5>4) or (3==5)\n",
    "\n",
    "*not ((5>4) or (3==5))\n",
    "\n",
    "*(True and True) and (True==False)\n",
    "\n",
    "*(not False) or (not True)\n"
   ]
  },
  {
   "cell_type": "code",
   "execution_count": 3,
   "id": "251aa95c-1173-4245-bd05-b0b1a774fd9a",
   "metadata": {},
   "outputs": [
    {
     "name": "stdout",
     "output_type": "stream",
     "text": [
      "False\n",
      "False\n",
      "True\n",
      "False\n",
      "False\n",
      "True\n"
     ]
    }
   ],
   "source": [
    "print ((5>4) and (3==5)) # False\n",
    "print(not(5>4)) # False\n",
    "print((5>4) or (3==5)) #True\n",
    "print(not((5>4)or (3==5))) # False\n",
    "print((True and True) and (True==False)) # False\n",
    "print((not False)or (not True)) #True"
   ]
  },
  {
   "cell_type": "markdown",
   "id": "8db78420-731d-4da2-acb4-9b21a6aafc00",
   "metadata": {},
   "source": [
    "5. What are the six comparison operators?"
   ]
  },
  {
   "cell_type": "markdown",
   "id": "7587eda4-97f7-4bfc-8f25-84476e1585e5",
   "metadata": {},
   "source": [
    "Ans. The Six comparison operators available in python are:\n",
    "    \n",
    "    \"==\",\"!=\",\"<\",\">\",\"<=\",\">=\"."
   ]
  },
  {
   "cell_type": "markdown",
   "id": "3007d194-53f3-42e2-b5f9-da660dcf48f8",
   "metadata": {},
   "source": [
    "6. How do you tell the difference between the equal to and assignment operators?Decribe a condition and when you would use one?"
   ]
  },
  {
   "cell_type": "markdown",
   "id": "ccf0e8e1-dc68-4034-969c-7b7bf2b3b540",
   "metadata": {},
   "source": [
    "Ans: == is the equal to operator that compares two values and evaluates to a Boolean, while = is that assignment operator that stores a value in a variable."
   ]
  },
  {
   "cell_type": "code",
   "execution_count": 4,
   "id": "172bb5a2-1229-4c82-a4db-20da295314db",
   "metadata": {},
   "outputs": [
    {
     "name": "stdout",
     "output_type": "stream",
     "text": [
      "True\n"
     ]
    }
   ],
   "source": [
    "a =3 # Assigning operator that stores 3 value in a variable a \n",
    "if a ==3: # comparing values of a variable value and 3\n",
    "    print (a==3)"
   ]
  },
  {
   "cell_type": "markdown",
   "id": "7ac67e0e-750a-44e9-b0ab-f18699d813db",
   "metadata": {},
   "source": [
    "7. Identify the three blocks in this code:\n",
    "    \n",
    "spam = 0\n",
    "    \n",
    "if spam == 10:\n",
    "    \n",
    "print('eggs')\n",
    "\n",
    "if spam > 5:\n",
    "    \n",
    "print('bacon')\n",
    "\n",
    "else:\n",
    "    \n",
    "print('ham')\n",
    "\n",
    "print('spam')\n",
    "\n",
    "print('spam')"
   ]
  },
  {
   "cell_type": "markdown",
   "id": "f0b2bf9d-1736-45e5-8a7b-267ad0a961dc",
   "metadata": {},
   "source": [
    "Ans: In Python code block refers to a collection fo code that is in  the same block or indent. This is most commonly found in classes,functin and loops."
   ]
  },
  {
   "cell_type": "code",
   "execution_count": 6,
   "id": "e182c75a-faeb-4c03-8a91-c2beda7cd2ba",
   "metadata": {},
   "outputs": [
    {
     "name": "stdout",
     "output_type": "stream",
     "text": [
      "ham\n",
      "spam\n",
      "spam\n"
     ]
    }
   ],
   "source": [
    "spam=0\n",
    "if spam==10:\n",
    "    print('eggs') # block 1\n",
    "if spam>5:\n",
    "    print('bacon') # block 2\n",
    "else:\n",
    "    print('ham') # block 3\n",
    "print('spam')\n",
    "print('spam')\n",
    " "
   ]
  },
  {
   "cell_type": "markdown",
   "id": "72c68b67-e176-4978-830f-c65334863521",
   "metadata": {},
   "source": [
    "8. Write code that prints Hello if 1 is stored in spam, prints Howdy if 2 is stored in spam, and prints Greetings! if anything else is stored in spam."
   ]
  },
  {
   "cell_type": "code",
   "execution_count": 8,
   "id": "4c6eabf6-a753-48e4-90bf-abfea8877967",
   "metadata": {},
   "outputs": [
    {
     "name": "stdout",
     "output_type": "stream",
     "text": [
      "Hello\n",
      "Howdy\n",
      "Greetings\n"
     ]
    }
   ],
   "source": [
    "def spamCode(spam):\n",
    "    if spam==1:\n",
    "        print('Hello')\n",
    "    elif spam==2:\n",
    "        print('Howdy')\n",
    "    else:\n",
    "        print('Greetings')\n",
    "        \n",
    "        \n",
    "spamCode(1)\n",
    "spamCode(2)\n",
    "spamCode(3)"
   ]
  },
  {
   "cell_type": "markdown",
   "id": "ee14991b-9e7c-45cc-8b74-baf10303b991",
   "metadata": {},
   "source": [
    "9.If your programme is stuck in an endless loop, what keys you’ll press?\n",
    "\n",
    "Ans: Press Ctrl-c to stop a program stuck in an infinite loop"
   ]
  },
  {
   "cell_type": "markdown",
   "id": "05042dac-7904-4526-a21f-ba02f32d198f",
   "metadata": {},
   "source": [
    "10. How can you tell the difference between break and continue?\n",
    "\n",
    "Ans: The break statement will move the execution outside the loop if break condtion is satisfied. Whereas the continue statement will move the execution to the start of the loop."
   ]
  },
  {
   "cell_type": "markdown",
   "id": "a097bebb-6b8b-4d92-abbe-23779214fab6",
   "metadata": {},
   "source": [
    "11. In a for loop, what is the difference between range(10), range(0, 10), and range(0, 10, 1)?\n",
    "\n",
    "Ans: The Differences are as follows:\n",
    "\n",
    "The range(10) call range from 0 to 9 (but not include 10)\n",
    "\n",
    "The range (0,10) explicitly tells the loop to start at 0\n",
    "\n",
    "The range(0,10,1) explicitly tells the loop to increase the variable by 1 on each iteration"
   ]
  },
  {
   "cell_type": "markdown",
   "id": "05b128a0-7471-4aec-acf4-e2c2b9024fc6",
   "metadata": {},
   "source": [
    "12. Write a short program that prints the numbers 1 to 10 using a for loop. Then write an equivalent program that prints the numbers 1 to 10 using a while loop ?"
   ]
  },
  {
   "cell_type": "code",
   "execution_count": 10,
   "id": "8affd08c-d92f-4a9e-b58a-dbd30a95371d",
   "metadata": {},
   "outputs": [
    {
     "name": "stdout",
     "output_type": "stream",
     "text": [
      "__________ Using For Loop __________\n",
      "1 2 3 4 5 6 7 8 9 10 \n",
      "\n"
     ]
    }
   ],
   "source": [
    "print('_'*10,'Using For Loop','_'*10)\n",
    "for i in range(1,11):\n",
    "    print(i, end=\" \")\n",
    "print('\\n')\n"
   ]
  },
  {
   "cell_type": "code",
   "execution_count": null,
   "id": "6eb2c44f-e158-4b44-ab6f-c275c674af9a",
   "metadata": {},
   "outputs": [],
   "source": [
    "print('_'*10,'Using While Loop','_'*10)\n",
    "i=1\n",
    "while i<=10:\n",
    "    p"
   ]
  }
 ],
 "metadata": {
  "kernelspec": {
   "display_name": "Python 3 (ipykernel)",
   "language": "python",
   "name": "python3"
  },
  "language_info": {
   "codemirror_mode": {
    "name": "ipython",
    "version": 3
   },
   "file_extension": ".py",
   "mimetype": "text/x-python",
   "name": "python",
   "nbconvert_exporter": "python",
   "pygments_lexer": "ipython3",
   "version": "3.10.6"
  }
 },
 "nbformat": 4,
 "nbformat_minor": 5
}
